{
 "cells": [
  {
   "cell_type": "markdown",
   "metadata": {},
   "source": [
    "## In this notebook we'll parse CSV statement from Bank of america and try to visualize spending"
   ]
  },
  {
   "cell_type": "markdown",
   "metadata": {},
   "source": [
    "### let's download a CSV statement from Bank Of America website"
   ]
  },
  {
   "cell_type": "markdown",
   "metadata": {},
   "source": [
    "1. open transactions list and click 'download'\n",
    "![bofa step1](docs/images/bofa_download_step1.png \"Bofa download step 1\")\n",
    "\n",
    "2. select \"Microsoft Excel format\"\n",
    "![bofa step2](docs/images/bofa_download_step2.png \"Bofa download step\")"
   ]
  },
  {
   "cell_type": "markdown",
   "metadata": {},
   "source": [
    "### reading CSV statement into a list of plain dicts."
   ]
  },
  {
   "cell_type": "code",
   "execution_count": 1,
   "metadata": {},
   "outputs": [],
   "source": [
    "import pandas as pd\n",
    "\n",
    "raw_df = pd.read_csv('bofa_sample_february.csv')"
   ]
  },
  {
   "cell_type": "markdown",
   "metadata": {},
   "source": [
    "### Pre-process data, just cleanup\n",
    "\n",
    "1. change field names. what we want is 'date', 'description', 'ref_num', 'amount', 'address'\n",
    "2. change value types - amount is decimal and date is datetime."
   ]
  },
  {
   "cell_type": "code",
   "execution_count": 2,
   "metadata": {},
   "outputs": [
    {
     "data": {
      "text/html": [
       "<div>\n",
       "<style scoped>\n",
       "    .dataframe tbody tr th:only-of-type {\n",
       "        vertical-align: middle;\n",
       "    }\n",
       "\n",
       "    .dataframe tbody tr th {\n",
       "        vertical-align: top;\n",
       "    }\n",
       "\n",
       "    .dataframe thead th {\n",
       "        text-align: right;\n",
       "    }\n",
       "</style>\n",
       "<table border=\"1\" class=\"dataframe\">\n",
       "  <thead>\n",
       "    <tr style=\"text-align: right;\">\n",
       "      <th></th>\n",
       "      <th>source_name</th>\n",
       "      <th>target_name</th>\n",
       "      <th>type</th>\n",
       "      <th>description</th>\n",
       "    </tr>\n",
       "  </thead>\n",
       "  <tbody>\n",
       "    <tr>\n",
       "      <th>0</th>\n",
       "      <td>Transaction Date</td>\n",
       "      <td>tx_date</td>\n",
       "      <td>datetime</td>\n",
       "      <td>date of the transaction</td>\n",
       "    </tr>\n",
       "  </tbody>\n",
       "</table>\n",
       "</div>"
      ],
      "text/plain": [
       "        source_name target_name      type             description \n",
       "0  Transaction Date     tx_date  datetime  date of the transaction"
      ]
     },
     "execution_count": 2,
     "metadata": {},
     "output_type": "execute_result"
    }
   ],
   "source": [
    "columns_meta = {\n",
    "    'Transaction Date#Post Date#Description#Category#Type#Amount': pd.read_csv('configs/chase_columns.csv'),\n",
    "    'Posted Date#Reference Number#Payee#Address#Amount': pd.read_csv('configs/bofa_columns.csv'),\n",
    "}\n",
    "\n",
    "list(columns_meta.values())[0].head(1)"
   ]
  },
  {
   "cell_type": "code",
   "execution_count": 3,
   "metadata": {},
   "outputs": [],
   "source": [
    "columns_meta_key = '#'.join(raw_df.columns)\n",
    "columns_df = columns_meta[columns_meta_key]"
   ]
  },
  {
   "cell_type": "markdown",
   "metadata": {},
   "source": [
    "### 1 rename columns to standard names using metadata provided."
   ]
  },
  {
   "cell_type": "code",
   "execution_count": 4,
   "metadata": {},
   "outputs": [],
   "source": [
    "rename_map = {}\n",
    "for index, row in columns_df.iterrows():\n",
    "    rename_map[row['source_name']] = row['target_name']\n",
    "df = raw_df.rename(columns=rename_map)"
   ]
  },
  {
   "cell_type": "markdown",
   "metadata": {},
   "source": [
    "### 2 now when we have clean names, we can type cast and clean the data."
   ]
  },
  {
   "cell_type": "code",
   "execution_count": 5,
   "metadata": {},
   "outputs": [],
   "source": [
    "df['date'] = pd.to_datetime(df['date'])\n",
    "df['amount'] = df['amount'].astype(float)\n",
    "df['description'] = df['description'].str.lower().str.replace('\\s+',' ', regex=True).str.strip()\n",
    "df['address'] = df['address'].str.lower().str.replace('\\s+',' ', regex=True).str.strip().fillna('###')\n",
    "df.loc[df['amount'] > 0, 'type'] = 'credit' \n",
    "df.loc[df['amount'] < 0, 'type'] = 'debit'"
   ]
  },
  {
   "cell_type": "markdown",
   "metadata": {},
   "source": [
    "example data"
   ]
  },
  {
   "cell_type": "code",
   "execution_count": 6,
   "metadata": {},
   "outputs": [
    {
     "data": {
      "text/plain": [
       "'philz coffee www.philzcoffca'"
      ]
     },
     "execution_count": 6,
     "metadata": {},
     "output_type": "execute_result"
    }
   ],
   "source": [
    "df['description'][4]"
   ]
  },
  {
   "cell_type": "markdown",
   "metadata": {},
   "source": [
    "more clean up.\n",
    "\n",
    "3. clean description, in many cases 'address' is also written in 'description'."
   ]
  },
  {
   "cell_type": "code",
   "execution_count": 7,
   "metadata": {},
   "outputs": [],
   "source": [
    "def clean_description_from_address(tx):\n",
    "    \"\"\"See lots of transactions where Address is also appended to the description. Let's remove that.\"\"\"\n",
    "    address = tx[\"address\"]\n",
    "    description = tx['description']\n",
    "    if description.startswith(\"sq *\"):\n",
    "        description = description.replace(\"sq *\", \"\")\n",
    "    #print(address, description)\n",
    "    if not address:\n",
    "        return description\n",
    "    address_without_spaces = address.replace(' ', '')\n",
    "    description_without_spaces = description.replace(' ', '')\n",
    "    if description_without_spaces.endswith(address_without_spaces):\n",
    "        # need to remove address from payee\n",
    "        # possibilities are:\n",
    "        # sunnyvale CA -> SunnyvaleCA\n",
    "        # mountain view ca -> mountain viewca\n",
    "        # sunnyvale ca -> sunnyvale ca\n",
    "        if description.endswith(address):\n",
    "            #print(\"remove full address\")\n",
    "            return description.replace(address, '').strip()\n",
    "        k = address.rfind(\" \")\n",
    "        address_without_last_space = address[:k]  + address[k+1:]\n",
    "        #print(address_without_last_space)\n",
    "        if description.endswith(address_without_last_space):\n",
    "            #print(\"remove partial address\")\n",
    "            #print(description.replace(address_without_last_space, '').strip())\n",
    "            return description.replace(address_without_last_space, '').strip()\n",
    "    #print(description)\n",
    "    return description"
   ]
  },
  {
   "cell_type": "code",
   "execution_count": 8,
   "metadata": {},
   "outputs": [],
   "source": [
    "df['description'] = df.apply(clean_description_from_address, axis=1)"
   ]
  },
  {
   "cell_type": "markdown",
   "metadata": {},
   "source": [
    "example cleaned data"
   ]
  },
  {
   "cell_type": "code",
   "execution_count": 9,
   "metadata": {},
   "outputs": [
    {
     "data": {
      "text/plain": [
       "'philz coffee'"
      ]
     },
     "execution_count": 9,
     "metadata": {},
     "output_type": "execute_result"
    }
   ],
   "source": [
    "df['description'][4]"
   ]
  },
  {
   "cell_type": "markdown",
   "metadata": {},
   "source": [
    "### 2. try to infer merchant and category\n",
    "\n",
    "for that for now we do mostly regex matching.\n",
    "as this list grows it will be moved to the database.\n",
    "\n",
    "for now config for how to map description to merchant and tags is in \n",
    "\n",
    "`description_matchers.json` file"
   ]
  },
  {
   "cell_type": "code",
   "execution_count": 10,
   "metadata": {},
   "outputs": [],
   "source": [
    "matchers_category = pd.read_csv('configs/matchers_category.csv')\n",
    "matchers_merchant = pd.read_csv('configs/matchers_merchant.csv')\n",
    "merchants = pd.read_csv('configs/merchants.csv').set_index('merchant')\n",
    "categories = pd.read_csv('configs/categories.csv').set_index('category')\n",
    "categories['parent'] = categories['parent'].fillna('')"
   ]
  },
  {
   "cell_type": "code",
   "execution_count": 11,
   "metadata": {},
   "outputs": [],
   "source": [
    "import re\n",
    "def find_merchant(description):\n",
    "    for index, matcher in matchers_merchant.iterrows():\n",
    "        operation = matcher[\"operation\"]\n",
    "        expression = matcher[\"expression\"]\n",
    "        merchant = matcher[\"merchant\"]\n",
    "        if operation == \"exact\":\n",
    "            if description == expression:\n",
    "                return merchant, {}\n",
    "        elif operation == \"keyword\":\n",
    "            parts = re.split(' |\\.|,|\\n', description)\n",
    "            if expression in parts:\n",
    "                return merchant, {}\n",
    "        elif operation == \"regex\":\n",
    "            re_match = re.match(expression, description)\n",
    "            if re_match:\n",
    "                extra_values = {}\n",
    "                if re_match.groupdict():\n",
    "                    assign_values = re_match.groupdict()\n",
    "                return merchant, extra_values\n",
    "    return None, {}\n",
    "\n",
    "def find_category(description):\n",
    "    for index, matcher in matchers_category.iterrows():\n",
    "        operation = matcher[\"operation\"]\n",
    "        expression = matcher[\"expression\"]\n",
    "        category = matcher[\"category\"]\n",
    "        if operation == \"exact\":\n",
    "            if description == expression:\n",
    "                return category\n",
    "        elif operation == \"keyword\":\n",
    "            parts = re.split(' |\\.|,|\\n', description)\n",
    "            if expression in parts:\n",
    "                return category\n",
    "        elif operation == \"regex\":\n",
    "            re_match = re.match(expression, description)\n",
    "            if re_match:\n",
    "                extra_values = {}\n",
    "                if re_match.groupdict():\n",
    "                    assign_values = re_match.groupdict()\n",
    "                return category\n",
    "    return None\n",
    "\n",
    "def find_merchant_category(merchant):\n",
    "    return merchants.loc[merchant]['category']\n",
    "\n",
    "def find_root_category(category):\n",
    "    parent = categories.loc[category][\"parent\"]\n",
    "    if parent:\n",
    "        return find_root_category(parent)\n",
    "    else:\n",
    "        return category"
   ]
  },
  {
   "cell_type": "code",
   "execution_count": 12,
   "metadata": {},
   "outputs": [
    {
     "data": {
      "text/plain": [
       "'clothing'"
      ]
     },
     "execution_count": 12,
     "metadata": {},
     "output_type": "execute_result"
    }
   ],
   "source": [
    "find_merchant_category('anthropologie')"
   ]
  },
  {
   "cell_type": "code",
   "execution_count": 13,
   "metadata": {},
   "outputs": [
    {
     "data": {
      "text/plain": [
       "'shopping'"
      ]
     },
     "execution_count": 13,
     "metadata": {},
     "output_type": "execute_result"
    }
   ],
   "source": [
    "find_root_category('clothing')"
   ]
  },
  {
   "cell_type": "code",
   "execution_count": 14,
   "metadata": {},
   "outputs": [
    {
     "data": {
      "text/plain": [
       "'toys'"
      ]
     },
     "execution_count": 14,
     "metadata": {},
     "output_type": "execute_result"
    }
   ],
   "source": [
    "find_category('something toys something')"
   ]
  },
  {
   "cell_type": "code",
   "execution_count": 15,
   "metadata": {},
   "outputs": [
    {
     "data": {
      "text/plain": [
       "('coupa cafe', {})"
      ]
     },
     "execution_count": 15,
     "metadata": {},
     "output_type": "execute_result"
    }
   ],
   "source": [
    "find_merchant('coupa cafe palo alto')"
   ]
  },
  {
   "cell_type": "code",
   "execution_count": 16,
   "metadata": {},
   "outputs": [],
   "source": [
    "def parse_description(description):\n",
    "    merchant, extra_values = find_merchant(description)\n",
    "    if merchant:\n",
    "        category = find_merchant_category(merchant)\n",
    "    else:\n",
    "        category = find_category(description)\n",
    "    if not category:\n",
    "        category = \"uncategorized\"\n",
    "    root_category = find_root_category(category)\n",
    "    return dict(\n",
    "        merchant=merchant,\n",
    "        category=category,\n",
    "        root_category=root_category,\n",
    "        **extra_values\n",
    "    )\n",
    "\n",
    "def enhance_transaction(tx):\n",
    "    values_to_add = parse_description(tx[\"description\"])\n",
    "    if values_to_add:\n",
    "        if \"merchant\" not in values_to_add:\n",
    "            # TBD if this is what we want\n",
    "            values_to_add[\"merchant\"] = tx[\"description\"]\n",
    "        for k, v in values_to_add.items():\n",
    "            tx[k] = v\n",
    "    return tx\n",
    "\n",
    "df = df.apply(enhance_transaction, axis=1)"
   ]
  },
  {
   "cell_type": "markdown",
   "metadata": {},
   "source": [
    "example labeled data"
   ]
  },
  {
   "cell_type": "code",
   "execution_count": 17,
   "metadata": {},
   "outputs": [
    {
     "data": {
      "text/plain": [
       "date                   2020-02-10 00:00:00\n",
       "ref_num          1234566780039637129230449\n",
       "description                   philz coffee\n",
       "address                   www.philzcoff ca\n",
       "amount                               -3.67\n",
       "type                                 debit\n",
       "merchant                      philz coffee\n",
       "category                       coffee_shop\n",
       "root_category                         food\n",
       "Name: 4, dtype: object"
      ]
     },
     "execution_count": 17,
     "metadata": {},
     "output_type": "execute_result"
    }
   ],
   "source": [
    "df.loc[4]"
   ]
  },
  {
   "cell_type": "markdown",
   "metadata": {},
   "source": [
    "### 3. now all is categorized, let's try to slice and dice"
   ]
  },
  {
   "cell_type": "markdown",
   "metadata": {},
   "source": [
    "#### Daily spendings for a month"
   ]
  },
  {
   "cell_type": "code",
   "execution_count": 18,
   "metadata": {},
   "outputs": [
    {
     "data": {
      "text/plain": [
       "<BarContainer object of 31 artists>"
      ]
     },
     "execution_count": 18,
     "metadata": {},
     "output_type": "execute_result"
    },
    {
     "data": {
      "image/png": "[encoded data removed]",
      "text/plain": [
       "<Figure size 1080x504 with 1 Axes>"
      ]
     },
     "metadata": {
      "needs_background": "light"
     },
     "output_type": "display_data"
    }
   ],
   "source": [
    "import matplotlib.pyplot as plt\n",
    "import matplotlib.dates as mdates\n",
    "\n",
    "df = df.set_index('date')\n",
    "fig, ax = plt.subplots(figsize=(15,7))\n",
    "\n",
    "daily_spendings_df = df[df['type']=='debit'].resample('D').sum().transform(abs)\n",
    "ax.xaxis_date()\n",
    "ax.xaxis.set_major_formatter(mdates.DateFormatter('%b %d'))\n",
    "daily_spendings_df\n",
    "ax.bar(daily_spendings_df.index, daily_spendings_df['amount'])"
   ]
  },
  {
   "cell_type": "markdown",
   "metadata": {},
   "source": [
    "#### Spendings by category\n"
   ]
  },
  {
   "cell_type": "markdown",
   "metadata": {},
   "source": [
    "**Pie chart view**"
   ]
  },
  {
   "cell_type": "code",
   "execution_count": 19,
   "metadata": {},
   "outputs": [
    {
     "data": {
      "text/plain": [
       "<matplotlib.axes._subplots.AxesSubplot at 0x124d53950>"
      ]
     },
     "execution_count": 19,
     "metadata": {},
     "output_type": "execute_result"
    },
    {
     "data": {
      "image/png": "[encoded data removed]",
      "text/plain": [
       "<Figure size 432x288 with 1 Axes>"
      ]
     },
     "metadata": {},
     "output_type": "display_data"
    }
   ],
   "source": [
    "df[df['type']=='debit'].groupby(['category'])['amount'].agg('sum').map(abs).plot(kind='pie')"
   ]
  },
  {
   "cell_type": "markdown",
   "metadata": {},
   "source": [
    "**Table View**"
   ]
  },
  {
   "cell_type": "code",
   "execution_count": 20,
   "metadata": {},
   "outputs": [
    {
     "data": {
      "text/html": [
       "<div>\n",
       "<style scoped>\n",
       "    .dataframe tbody tr th:only-of-type {\n",
       "        vertical-align: middle;\n",
       "    }\n",
       "\n",
       "    .dataframe tbody tr th {\n",
       "        vertical-align: top;\n",
       "    }\n",
       "\n",
       "    .dataframe thead th {\n",
       "        text-align: right;\n",
       "    }\n",
       "</style>\n",
       "<table border=\"1\" class=\"dataframe\">\n",
       "  <thead>\n",
       "    <tr style=\"text-align: right;\">\n",
       "      <th></th>\n",
       "      <th>category</th>\n",
       "      <th>amount</th>\n",
       "    </tr>\n",
       "  </thead>\n",
       "  <tbody>\n",
       "    <tr>\n",
       "      <th>0</th>\n",
       "      <td>groceries</td>\n",
       "      <td>947.51</td>\n",
       "    </tr>\n",
       "    <tr>\n",
       "      <th>1</th>\n",
       "      <td>sport_outdoor_shopping</td>\n",
       "      <td>877.93</td>\n",
       "    </tr>\n",
       "    <tr>\n",
       "      <th>2</th>\n",
       "      <td>furniture</td>\n",
       "      <td>186.41</td>\n",
       "    </tr>\n",
       "    <tr>\n",
       "      <th>3</th>\n",
       "      <td>restaurants</td>\n",
       "      <td>122.41</td>\n",
       "    </tr>\n",
       "    <tr>\n",
       "      <th>4</th>\n",
       "      <td>pharmacy</td>\n",
       "      <td>79.97</td>\n",
       "    </tr>\n",
       "    <tr>\n",
       "      <th>5</th>\n",
       "      <td>shopping</td>\n",
       "      <td>79.19</td>\n",
       "    </tr>\n",
       "    <tr>\n",
       "      <th>6</th>\n",
       "      <td>coffee_shop</td>\n",
       "      <td>65.22</td>\n",
       "    </tr>\n",
       "    <tr>\n",
       "      <th>7</th>\n",
       "      <td>fees</td>\n",
       "      <td>51.81</td>\n",
       "    </tr>\n",
       "    <tr>\n",
       "      <th>8</th>\n",
       "      <td>business</td>\n",
       "      <td>38.00</td>\n",
       "    </tr>\n",
       "    <tr>\n",
       "      <th>9</th>\n",
       "      <td>hair</td>\n",
       "      <td>37.00</td>\n",
       "    </tr>\n",
       "    <tr>\n",
       "      <th>10</th>\n",
       "      <td>doctor</td>\n",
       "      <td>17.00</td>\n",
       "    </tr>\n",
       "    <tr>\n",
       "      <th>11</th>\n",
       "      <td>toys</td>\n",
       "      <td>7.53</td>\n",
       "    </tr>\n",
       "  </tbody>\n",
       "</table>\n",
       "</div>"
      ],
      "text/plain": [
       "                  category  amount\n",
       "0                groceries  947.51\n",
       "1   sport_outdoor_shopping  877.93\n",
       "2                furniture  186.41\n",
       "3              restaurants  122.41\n",
       "4                 pharmacy   79.97\n",
       "5                 shopping   79.19\n",
       "6              coffee_shop   65.22\n",
       "7                     fees   51.81\n",
       "8                 business   38.00\n",
       "9                     hair   37.00\n",
       "10                  doctor   17.00\n",
       "11                    toys    7.53"
      ]
     },
     "execution_count": 20,
     "metadata": {},
     "output_type": "execute_result"
    }
   ],
   "source": [
    "df[df['type']=='debit'].groupby(['category'])['amount'].agg('sum').map(abs).sort_values(ascending=False).to_frame().reset_index()"
   ]
  },
  {
   "cell_type": "code",
   "execution_count": null,
   "metadata": {},
   "outputs": [],
   "source": []
  }
 ],
 "metadata": {
  "kernelspec": {
   "display_name": "Python 3",
   "language": "python",
   "name": "python3"
  },
  "language_info": {
   "codemirror_mode": {
    "name": "ipython",
    "version": 3
   },
   "file_extension": ".py",
   "mimetype": "text/x-python",
   "name": "python",
   "nbconvert_exporter": "python",
   "pygments_lexer": "ipython3",
   "version": "3.7.5"
  }
 },
 "nbformat": 4,
 "nbformat_minor": 4
}
