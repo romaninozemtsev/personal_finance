{
 "cells": [
  {
   "cell_type": "code",
   "execution_count": 1,
   "metadata": {},
   "outputs": [],
   "source": [
    "import pandas as pd"
   ]
  },
  {
   "cell_type": "code",
   "execution_count": 2,
   "metadata": {},
   "outputs": [],
   "source": [
    "df = pd.read_csv('personal/amazon/01-Jan-2019_to_12-Mar-2020.csv')"
   ]
  },
  {
   "cell_type": "code",
   "execution_count": 3,
   "metadata": {},
   "outputs": [
    {
     "data": {
      "text/html": [
       "<div>\n",
       "<style scoped>\n",
       "    .dataframe tbody tr th:only-of-type {\n",
       "        vertical-align: middle;\n",
       "    }\n",
       "\n",
       "    .dataframe tbody tr th {\n",
       "        vertical-align: top;\n",
       "    }\n",
       "\n",
       "    .dataframe thead th {\n",
       "        text-align: right;\n",
       "    }\n",
       "</style>\n",
       "<table border=\"1\" class=\"dataframe\">\n",
       "  <thead>\n",
       "    <tr style=\"text-align: right;\">\n",
       "      <th></th>\n",
       "      <th>Title</th>\n",
       "      <th>Category</th>\n",
       "    </tr>\n",
       "  </thead>\n",
       "  <tbody>\n",
       "    <tr>\n",
       "      <th>0</th>\n",
       "      <td>KENT Dual Drive Tandem Comfort Bike</td>\n",
       "      <td>OUTDOOR_RECREATION_PRODUCT</td>\n",
       "    </tr>\n",
       "    <tr>\n",
       "      <th>1</th>\n",
       "      <td>Suptikes Door Draft Stopper Under Door Seal fo...</td>\n",
       "      <td>BUILDING_MATERIAL</td>\n",
       "    </tr>\n",
       "    <tr>\n",
       "      <th>2</th>\n",
       "      <td>DITTY BIRD Baby Sound Books: Nursery Rhymes Mu...</td>\n",
       "      <td>CHILDRENS_COSTUME</td>\n",
       "    </tr>\n",
       "    <tr>\n",
       "      <th>3</th>\n",
       "      <td>Keeping Fun Indoor Weather Stripping,Self Adhe...</td>\n",
       "      <td>HARDWARE</td>\n",
       "    </tr>\n",
       "    <tr>\n",
       "      <th>4</th>\n",
       "      <td>WD-40 Bike, All Conditions Lube, Bike Wash, De...</td>\n",
       "      <td>OUTDOOR_RECREATION_PRODUCT</td>\n",
       "    </tr>\n",
       "  </tbody>\n",
       "</table>\n",
       "</div>"
      ],
      "text/plain": [
       "                                               Title  \\\n",
       "0                KENT Dual Drive Tandem Comfort Bike   \n",
       "1  Suptikes Door Draft Stopper Under Door Seal fo...   \n",
       "2  DITTY BIRD Baby Sound Books: Nursery Rhymes Mu...   \n",
       "3  Keeping Fun Indoor Weather Stripping,Self Adhe...   \n",
       "4  WD-40 Bike, All Conditions Lube, Bike Wash, De...   \n",
       "\n",
       "                     Category  \n",
       "0  OUTDOOR_RECREATION_PRODUCT  \n",
       "1           BUILDING_MATERIAL  \n",
       "2           CHILDRENS_COSTUME  \n",
       "3                    HARDWARE  \n",
       "4  OUTDOOR_RECREATION_PRODUCT  "
      ]
     },
     "execution_count": 3,
     "metadata": {},
     "output_type": "execute_result"
    }
   ],
   "source": [
    "df.head(5)[['Title', 'Category']]"
   ]
  },
  {
   "cell_type": "markdown",
   "metadata": {},
   "source": [
    "### convert date column to datetime, and convert dollar amount to a number."
   ]
  },
  {
   "cell_type": "code",
   "execution_count": 4,
   "metadata": {},
   "outputs": [],
   "source": [
    "df['amount'] = df['Item Total'].str.replace('$', '').astype(float)\n",
    "df = df.rename(columns={'Order Date': 'order_date'})\n",
    "df['order_date'] = pd.to_datetime(df['order_date'])"
   ]
  },
  {
   "cell_type": "code",
   "execution_count": 5,
   "metadata": {},
   "outputs": [
    {
     "data": {
      "text/plain": [
       "9267.230000000001"
      ]
     },
     "execution_count": 5,
     "metadata": {},
     "output_type": "execute_result"
    }
   ],
   "source": [
    "df['amount'].sum()"
   ]
  },
  {
   "cell_type": "code",
   "execution_count": 6,
   "metadata": {},
   "outputs": [],
   "source": [
    "import matplotlib.pyplot as plt\n",
    "import matplotlib.dates as mdates"
   ]
  },
  {
   "cell_type": "markdown",
   "metadata": {},
   "source": [
    "### by month"
   ]
  },
  {
   "cell_type": "code",
   "execution_count": 7,
   "metadata": {},
   "outputs": [
    {
     "data": {
      "text/plain": [
       "<BarContainer object of 15 artists>"
      ]
     },
     "execution_count": 7,
     "metadata": {},
     "output_type": "execute_result"
    },
    {
     "data": {
      "image/png": "[encoded data removed]",
      "text/plain": [
       "<Figure size 1080x504 with 1 Axes>"
      ]
     },
     "metadata": {
      "needs_background": "light"
     },
     "output_type": "display_data"
    }
   ],
   "source": [
    "fig, ax = plt.subplots(figsize=(15,7))\n",
    "ax.xaxis_date()\n",
    "ax.xaxis.set_major_formatter(mdates.DateFormatter('%b %d'))\n",
    "\n",
    "by_day = df[['order_date','amount']].set_index('order_date').resample('M').sum()\n",
    "ax.bar(by_day.index, by_day['amount'], width=28)  # width here should be number of days we resampled by."
   ]
  },
  {
   "cell_type": "markdown",
   "metadata": {},
   "source": [
    "### by week"
   ]
  },
  {
   "cell_type": "code",
   "execution_count": 8,
   "metadata": {},
   "outputs": [
    {
     "data": {
      "text/plain": [
       "<BarContainer object of 63 artists>"
      ]
     },
     "execution_count": 8,
     "metadata": {},
     "output_type": "execute_result"
    },
    {
     "data": {
      "image/png": "[encoded data removed]",
      "text/plain": [
       "<Figure size 1080x504 with 1 Axes>"
      ]
     },
     "metadata": {
      "needs_background": "light"
     },
     "output_type": "display_data"
    }
   ],
   "source": [
    "fig, ax = plt.subplots(figsize=(15,7))\n",
    "ax.xaxis_date()\n",
    "ax.xaxis.set_major_formatter(mdates.DateFormatter('%b %d'))\n",
    "\n",
    "by_day = df[['order_date','amount']].set_index('order_date').resample('W').sum()\n",
    "ax.bar(by_day.index, by_day['amount'], width=6)  # width here should be number of days we resampled by."
   ]
  },
  {
   "cell_type": "markdown",
   "metadata": {},
   "source": [
    "large spike between jan and march.\n",
    "\n",
    "table view can tell better dates."
   ]
  },
  {
   "cell_type": "code",
   "execution_count": 9,
   "metadata": {},
   "outputs": [
    {
     "data": {
      "text/html": [
       "<div>\n",
       "<style scoped>\n",
       "    .dataframe tbody tr th:only-of-type {\n",
       "        vertical-align: middle;\n",
       "    }\n",
       "\n",
       "    .dataframe tbody tr th {\n",
       "        vertical-align: top;\n",
       "    }\n",
       "\n",
       "    .dataframe thead th {\n",
       "        text-align: right;\n",
       "    }\n",
       "</style>\n",
       "<table border=\"1\" class=\"dataframe\">\n",
       "  <thead>\n",
       "    <tr style=\"text-align: right;\">\n",
       "      <th></th>\n",
       "      <th>amount</th>\n",
       "    </tr>\n",
       "    <tr>\n",
       "      <th>order_date</th>\n",
       "      <th></th>\n",
       "    </tr>\n",
       "  </thead>\n",
       "  <tbody>\n",
       "    <tr>\n",
       "      <th>2019-01-06</th>\n",
       "      <td>434.90</td>\n",
       "    </tr>\n",
       "    <tr>\n",
       "      <th>2019-01-13</th>\n",
       "      <td>0.00</td>\n",
       "    </tr>\n",
       "    <tr>\n",
       "      <th>2019-01-20</th>\n",
       "      <td>23.85</td>\n",
       "    </tr>\n",
       "    <tr>\n",
       "      <th>2019-01-27</th>\n",
       "      <td>254.65</td>\n",
       "    </tr>\n",
       "    <tr>\n",
       "      <th>2019-02-03</th>\n",
       "      <td>1047.00</td>\n",
       "    </tr>\n",
       "    <tr>\n",
       "      <th>2019-02-10</th>\n",
       "      <td>1602.83</td>\n",
       "    </tr>\n",
       "    <tr>\n",
       "      <th>2019-02-17</th>\n",
       "      <td>0.00</td>\n",
       "    </tr>\n",
       "    <tr>\n",
       "      <th>2019-02-24</th>\n",
       "      <td>0.00</td>\n",
       "    </tr>\n",
       "    <tr>\n",
       "      <th>2019-03-03</th>\n",
       "      <td>0.00</td>\n",
       "    </tr>\n",
       "    <tr>\n",
       "      <th>2019-03-10</th>\n",
       "      <td>35.00</td>\n",
       "    </tr>\n",
       "  </tbody>\n",
       "</table>\n",
       "</div>"
      ],
      "text/plain": [
       "             amount\n",
       "order_date         \n",
       "2019-01-06   434.90\n",
       "2019-01-13     0.00\n",
       "2019-01-20    23.85\n",
       "2019-01-27   254.65\n",
       "2019-02-03  1047.00\n",
       "2019-02-10  1602.83\n",
       "2019-02-17     0.00\n",
       "2019-02-24     0.00\n",
       "2019-03-03     0.00\n",
       "2019-03-10    35.00"
      ]
     },
     "execution_count": 9,
     "metadata": {},
     "output_type": "execute_result"
    }
   ],
   "source": [
    "by_day.head(10)"
   ]
  },
  {
   "cell_type": "markdown",
   "metadata": {},
   "source": [
    "### let's see what was ordered in this week."
   ]
  },
  {
   "cell_type": "code",
   "execution_count": 10,
   "metadata": {},
   "outputs": [],
   "source": [
    "orders_in_3_weeks = df[(df['order_date'] > '2002-01-27 01:00:00') & (df['order_date'] <= '2019-02-17 04:00:00')][['Title', 'Category', 'amount']]"
   ]
  },
  {
   "cell_type": "markdown",
   "metadata": {},
   "source": [
    "### big items"
   ]
  },
  {
   "cell_type": "code",
   "execution_count": 11,
   "metadata": {},
   "outputs": [
    {
     "name": "stderr",
     "output_type": "stream",
     "text": [
      "/Users/rinozemt/personal_finance/venv/lib/python3.7/site-packages/ipykernel_launcher.py:1: UserWarning: Boolean Series key will be reindexed to match DataFrame index.\n",
      "  \"\"\"Entry point for launching an IPython kernel.\n"
     ]
    },
    {
     "data": {
      "text/html": [
       "<div>\n",
       "<style scoped>\n",
       "    .dataframe tbody tr th:only-of-type {\n",
       "        vertical-align: middle;\n",
       "    }\n",
       "\n",
       "    .dataframe tbody tr th {\n",
       "        vertical-align: top;\n",
       "    }\n",
       "\n",
       "    .dataframe thead th {\n",
       "        text-align: right;\n",
       "    }\n",
       "</style>\n",
       "<table border=\"1\" class=\"dataframe\">\n",
       "  <thead>\n",
       "    <tr style=\"text-align: right;\">\n",
       "      <th></th>\n",
       "      <th>Title</th>\n",
       "      <th>Category</th>\n",
       "      <th>amount</th>\n",
       "    </tr>\n",
       "  </thead>\n",
       "  <tbody>\n",
       "    <tr>\n",
       "      <th>0</th>\n",
       "      <td>KENT Dual Drive Tandem Comfort Bike</td>\n",
       "      <td>OUTDOOR_RECREATION_PRODUCT</td>\n",
       "      <td>402.54</td>\n",
       "    </tr>\n",
       "    <tr>\n",
       "      <th>7</th>\n",
       "      <td>August Home ASL-03, AC-R1 Smart Lock Pro + Con...</td>\n",
       "      <td>HARDWARE</td>\n",
       "      <td>238.66</td>\n",
       "    </tr>\n",
       "    <tr>\n",
       "      <th>9</th>\n",
       "      <td>Stokke Sleepi Natural Adjustable Baby Crib, Ea...</td>\n",
       "      <td>BED</td>\n",
       "      <td>799.00</td>\n",
       "    </tr>\n",
       "    <tr>\n",
       "      <th>10</th>\n",
       "      <td>Stokke Sleepi Baby Crib Mattress by Colgate, f...</td>\n",
       "      <td>MATTRESS</td>\n",
       "      <td>199.00</td>\n",
       "    </tr>\n",
       "    <tr>\n",
       "      <th>12</th>\n",
       "      <td>Stokke Sleepi Crib Conversion Kit in Natural (...</td>\n",
       "      <td>BABY_PRODUCT</td>\n",
       "      <td>249.00</td>\n",
       "    </tr>\n",
       "    <tr>\n",
       "      <th>14</th>\n",
       "      <td>Stokke Sleepi Baby Crib Mattress by Colgate, f...</td>\n",
       "      <td>MATTRESS</td>\n",
       "      <td>199.00</td>\n",
       "    </tr>\n",
       "    <tr>\n",
       "      <th>15</th>\n",
       "      <td>Stokke Sleepi Adjustable Oval Mini Baby Crib B...</td>\n",
       "      <td>BABY_PRODUCT</td>\n",
       "      <td>599.00</td>\n",
       "    </tr>\n",
       "    <tr>\n",
       "      <th>18</th>\n",
       "      <td>Stokke 2019 Tripp Trapp Bundle Natural w Beige...</td>\n",
       "      <td>BABY_PRODUCT</td>\n",
       "      <td>369.51</td>\n",
       "    </tr>\n",
       "  </tbody>\n",
       "</table>\n",
       "</div>"
      ],
      "text/plain": [
       "                                                Title  \\\n",
       "0                 KENT Dual Drive Tandem Comfort Bike   \n",
       "7   August Home ASL-03, AC-R1 Smart Lock Pro + Con...   \n",
       "9   Stokke Sleepi Natural Adjustable Baby Crib, Ea...   \n",
       "10  Stokke Sleepi Baby Crib Mattress by Colgate, f...   \n",
       "12  Stokke Sleepi Crib Conversion Kit in Natural (...   \n",
       "14  Stokke Sleepi Baby Crib Mattress by Colgate, f...   \n",
       "15  Stokke Sleepi Adjustable Oval Mini Baby Crib B...   \n",
       "18  Stokke 2019 Tripp Trapp Bundle Natural w Beige...   \n",
       "\n",
       "                      Category  amount  \n",
       "0   OUTDOOR_RECREATION_PRODUCT  402.54  \n",
       "7                     HARDWARE  238.66  \n",
       "9                          BED  799.00  \n",
       "10                    MATTRESS  199.00  \n",
       "12                BABY_PRODUCT  249.00  \n",
       "14                    MATTRESS  199.00  \n",
       "15                BABY_PRODUCT  599.00  \n",
       "18                BABY_PRODUCT  369.51  "
      ]
     },
     "execution_count": 11,
     "metadata": {},
     "output_type": "execute_result"
    }
   ],
   "source": [
    "orders_in_3_weeks[df['amount']>100]"
   ]
  },
  {
   "cell_type": "markdown",
   "metadata": {},
   "source": [
    "### see which categories you spend the most in these 3 weeks"
   ]
  },
  {
   "cell_type": "code",
   "execution_count": 12,
   "metadata": {},
   "outputs": [
    {
     "data": {
      "text/html": [
       "<div>\n",
       "<style scoped>\n",
       "    .dataframe tbody tr th:only-of-type {\n",
       "        vertical-align: middle;\n",
       "    }\n",
       "\n",
       "    .dataframe tbody tr th {\n",
       "        vertical-align: top;\n",
       "    }\n",
       "\n",
       "    .dataframe thead th {\n",
       "        text-align: right;\n",
       "    }\n",
       "</style>\n",
       "<table border=\"1\" class=\"dataframe\">\n",
       "  <thead>\n",
       "    <tr style=\"text-align: right;\">\n",
       "      <th></th>\n",
       "      <th>Category</th>\n",
       "      <th>amount</th>\n",
       "    </tr>\n",
       "  </thead>\n",
       "  <tbody>\n",
       "    <tr>\n",
       "      <th>1</th>\n",
       "      <td>BABY_PRODUCT</td>\n",
       "      <td>1363.47</td>\n",
       "    </tr>\n",
       "    <tr>\n",
       "      <th>2</th>\n",
       "      <td>BED</td>\n",
       "      <td>799.00</td>\n",
       "    </tr>\n",
       "    <tr>\n",
       "      <th>8</th>\n",
       "      <td>OUTDOOR_RECREATION_PRODUCT</td>\n",
       "      <td>427.04</td>\n",
       "    </tr>\n",
       "    <tr>\n",
       "      <th>7</th>\n",
       "      <td>MATTRESS</td>\n",
       "      <td>398.00</td>\n",
       "    </tr>\n",
       "    <tr>\n",
       "      <th>6</th>\n",
       "      <td>HARDWARE</td>\n",
       "      <td>254.53</td>\n",
       "    </tr>\n",
       "    <tr>\n",
       "      <th>9</th>\n",
       "      <td>TOYS_AND_GAMES</td>\n",
       "      <td>57.75</td>\n",
       "    </tr>\n",
       "    <tr>\n",
       "      <th>5</th>\n",
       "      <td>FITTED_SHEET</td>\n",
       "      <td>31.61</td>\n",
       "    </tr>\n",
       "    <tr>\n",
       "      <th>4</th>\n",
       "      <td>CHILDRENS_COSTUME</td>\n",
       "      <td>16.49</td>\n",
       "    </tr>\n",
       "    <tr>\n",
       "      <th>3</th>\n",
       "      <td>BUILDING_MATERIAL</td>\n",
       "      <td>9.99</td>\n",
       "    </tr>\n",
       "    <tr>\n",
       "      <th>0</th>\n",
       "      <td>ADHESIVES_AND_SEALANTS</td>\n",
       "      <td>5.35</td>\n",
       "    </tr>\n",
       "  </tbody>\n",
       "</table>\n",
       "</div>"
      ],
      "text/plain": [
       "                     Category   amount\n",
       "1                BABY_PRODUCT  1363.47\n",
       "2                         BED   799.00\n",
       "8  OUTDOOR_RECREATION_PRODUCT   427.04\n",
       "7                    MATTRESS   398.00\n",
       "6                    HARDWARE   254.53\n",
       "9              TOYS_AND_GAMES    57.75\n",
       "5                FITTED_SHEET    31.61\n",
       "4           CHILDRENS_COSTUME    16.49\n",
       "3           BUILDING_MATERIAL     9.99\n",
       "0      ADHESIVES_AND_SEALANTS     5.35"
      ]
     },
     "execution_count": 12,
     "metadata": {},
     "output_type": "execute_result"
    }
   ],
   "source": [
    "orders_in_3_weeks[['Category', 'amount']].groupby('Category').sum().reset_index().sort_values(by='amount', ascending=False)"
   ]
  },
  {
   "cell_type": "markdown",
   "metadata": {},
   "source": [
    "### and over all time?"
   ]
  },
  {
   "cell_type": "code",
   "execution_count": 13,
   "metadata": {},
   "outputs": [
    {
     "data": {
      "text/html": [
       "<div>\n",
       "<style scoped>\n",
       "    .dataframe tbody tr th:only-of-type {\n",
       "        vertical-align: middle;\n",
       "    }\n",
       "\n",
       "    .dataframe tbody tr th {\n",
       "        vertical-align: top;\n",
       "    }\n",
       "\n",
       "    .dataframe thead th {\n",
       "        text-align: right;\n",
       "    }\n",
       "</style>\n",
       "<table border=\"1\" class=\"dataframe\">\n",
       "  <thead>\n",
       "    <tr style=\"text-align: right;\">\n",
       "      <th></th>\n",
       "      <th>Category</th>\n",
       "      <th>amount</th>\n",
       "    </tr>\n",
       "  </thead>\n",
       "  <tbody>\n",
       "    <tr>\n",
       "      <th>3</th>\n",
       "      <td>BABY_PRODUCT</td>\n",
       "      <td>2589.95</td>\n",
       "    </tr>\n",
       "    <tr>\n",
       "      <th>17</th>\n",
       "      <td>HEALTH_PERSONAL_CARE</td>\n",
       "      <td>2170.78</td>\n",
       "    </tr>\n",
       "    <tr>\n",
       "      <th>26</th>\n",
       "      <td>OUTDOOR_RECREATION_PRODUCT</td>\n",
       "      <td>960.63</td>\n",
       "    </tr>\n",
       "    <tr>\n",
       "      <th>6</th>\n",
       "      <td>BED</td>\n",
       "      <td>799.00</td>\n",
       "    </tr>\n",
       "    <tr>\n",
       "      <th>18</th>\n",
       "      <td>HOME</td>\n",
       "      <td>572.73</td>\n",
       "    </tr>\n",
       "    <tr>\n",
       "      <th>24</th>\n",
       "      <td>MATTRESS</td>\n",
       "      <td>398.00</td>\n",
       "    </tr>\n",
       "    <tr>\n",
       "      <th>15</th>\n",
       "      <td>HARDWARE</td>\n",
       "      <td>312.77</td>\n",
       "    </tr>\n",
       "    <tr>\n",
       "      <th>14</th>\n",
       "      <td>GROCERY</td>\n",
       "      <td>209.99</td>\n",
       "    </tr>\n",
       "    <tr>\n",
       "      <th>30</th>\n",
       "      <td>SKIN_CLEANING_WIPE</td>\n",
       "      <td>182.74</td>\n",
       "    </tr>\n",
       "    <tr>\n",
       "      <th>22</th>\n",
       "      <td>KITCHEN</td>\n",
       "      <td>139.48</td>\n",
       "    </tr>\n",
       "  </tbody>\n",
       "</table>\n",
       "</div>"
      ],
      "text/plain": [
       "                      Category   amount\n",
       "3                 BABY_PRODUCT  2589.95\n",
       "17        HEALTH_PERSONAL_CARE  2170.78\n",
       "26  OUTDOOR_RECREATION_PRODUCT   960.63\n",
       "6                          BED   799.00\n",
       "18                        HOME   572.73\n",
       "24                    MATTRESS   398.00\n",
       "15                    HARDWARE   312.77\n",
       "14                     GROCERY   209.99\n",
       "30          SKIN_CLEANING_WIPE   182.74\n",
       "22                     KITCHEN   139.48"
      ]
     },
     "execution_count": 13,
     "metadata": {},
     "output_type": "execute_result"
    }
   ],
   "source": [
    "df[['Category', 'amount']].groupby('Category').sum().reset_index().sort_values(by='amount', ascending=False).head(10)"
   ]
  },
  {
   "cell_type": "markdown",
   "metadata": {},
   "source": [
    "### overall categories we spend in"
   ]
  },
  {
   "cell_type": "code",
   "execution_count": 14,
   "metadata": {},
   "outputs": [
    {
     "data": {
      "text/plain": [
       "HEALTH_PERSONAL_CARE          55\n",
       "BABY_PRODUCT                  31\n",
       "SKIN_CLEANING_WIPE            12\n",
       "OUTDOOR_RECREATION_PRODUCT     9\n",
       "HOME                           8\n",
       "TOYS_AND_GAMES                 7\n",
       "PET_SUPPLIES                   6\n",
       "GROCERY                        6\n",
       "HARDWARE                       6\n",
       "WIRELESS_ACCESSORY             5\n",
       "KITCHEN                        4\n",
       "ABIS_BOOK                      3\n",
       "DIGITAL_DEVICE_3               3\n",
       "CELLULAR_PHONE_CASE            2\n",
       "BATTERY                        2\n",
       "FITTED_SHEET                   2\n",
       "WRITING_INSTRUMENT             2\n",
       "BUILDING_MATERIAL              2\n",
       "ACCESSORY                      2\n",
       "MATTRESS                       2\n",
       "HOME_LIGHTING_ACCESSORY        1\n",
       "PAPER_PRODUCT                  1\n",
       "BED                            1\n",
       "SECURITY_CAMERA                1\n",
       "OUTDOOR_LIVING                 1\n",
       "VDO_DEVICES                    1\n",
       "CHILDRENS_COSTUME              1\n",
       "LIGHT_SOURCE                   1\n",
       "HOME_BED_AND_BATH              1\n",
       "ADHESIVES_AND_SEALANTS         1\n",
       "DIGITAL_DEVICE_3_ACCESSORY     1\n",
       "HOME_LIGHTING_AND_LAMPS        1\n",
       "SPORTING_GOODS                 1\n",
       "CE_ACCESSORY                   1\n",
       "BEAUTY                         1\n",
       "TOOLS                          1\n",
       "HEADPHONES                     1\n",
       "Name: Category, dtype: int64"
      ]
     },
     "execution_count": 14,
     "metadata": {},
     "output_type": "execute_result"
    }
   ],
   "source": [
    "df['Category'].value_counts()"
   ]
  },
  {
   "cell_type": "code",
   "execution_count": null,
   "metadata": {},
   "outputs": [],
   "source": []
  }
 ],
 "metadata": {
  "kernelspec": {
   "display_name": "Python 3",
   "language": "python",
   "name": "python3"
  },
  "language_info": {
   "codemirror_mode": {
    "name": "ipython",
    "version": 3
   },
   "file_extension": ".py",
   "mimetype": "text/x-python",
   "name": "python",
   "nbconvert_exporter": "python",
   "pygments_lexer": "ipython3",
   "version": "3.7.5"
  }
 },
 "nbformat": 4,
 "nbformat_minor": 4
}
