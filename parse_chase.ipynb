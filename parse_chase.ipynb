{
 "cells": [
  {
   "cell_type": "markdown",
   "metadata": {},
   "source": [
    "## In this notebook we'll parse CSV statement from Chase and try to visualize spending"
   ]
  },
  {
   "cell_type": "markdown",
   "metadata": {},
   "source": [
    "### let's download a CSV statement from Chase website"
   ]
  },
  {
   "cell_type": "markdown",
   "metadata": {},
   "source": [
    "1. open transactions list and click 'download'\n",
    "![chase step1](images/chase_download_step1.png \"Chase download step 1\")\n",
    "\n",
    "2. select \"CSVt\"\n",
    "![chase step2](images/chase_download_step2.png \"Chase download step2\")"
   ]
  },
  {
   "cell_type": "markdown",
   "metadata": {},
   "source": [
    "### reading CSV statement into a list of plain dicts."
   ]
  },
  {
   "cell_type": "code",
   "execution_count": 1,
   "metadata": {},
   "outputs": [],
   "source": [
    "from csv import DictReader\n",
    "\n",
    "with open('../chase_sample_february.csv') as csvfile:\n",
    "    reader = DictReader(csvfile)\n",
    "    transactions_list = list(dict(x) for x in reader)"
   ]
  },
  {
   "cell_type": "markdown",
   "metadata": {},
   "source": [
    "example data"
   ]
  },
  {
   "cell_type": "code",
   "execution_count": 2,
   "metadata": {},
   "outputs": [
    {
     "data": {
      "text/plain": [
       "{'Transaction Date': '02/13/2020',\n",
       " 'Post Date': '02/14/2020',\n",
       " 'Description': 'Kindle Unltd*H52WN4X43',\n",
       " 'Category': 'Shopping',\n",
       " 'Type': 'Sale',\n",
       " 'Amount': '-9.99'}"
      ]
     },
     "execution_count": 2,
     "metadata": {},
     "output_type": "execute_result"
    }
   ],
   "source": [
    "transactions_list[4]"
   ]
  },
  {
   "cell_type": "markdown",
   "metadata": {},
   "source": [
    "### Pre-process data, just cleanup\n",
    "\n",
    "1. change field names. what we want is 'date', 'description', 'ref_num', 'amount', 'address'\n",
    "2. change value types - amount is decimal and date is datetime.\n",
    "3. clean description, in many cases 'address' is also written in 'description'."
   ]
  },
  {
   "cell_type": "markdown",
   "metadata": {},
   "source": [
    "#### BofA specific mapping of fields. Chase or Wells Fargo would be different."
   ]
  },
  {
   "cell_type": "code",
   "execution_count": 3,
   "metadata": {},
   "outputs": [],
   "source": [
    "import json\n",
    "\n",
    "with open('chase_columns.json') as chase_columns:\n",
    "    chase_columns_meta = json.loads(chase_columns.read())"
   ]
  },
  {
   "cell_type": "markdown",
   "metadata": {},
   "source": [
    "This code is pretty generic, and does actual clean up, uses BofA specific metadata from above."
   ]
  },
  {
   "cell_type": "code",
   "execution_count": 4,
   "metadata": {},
   "outputs": [],
   "source": [
    "from dateutil.parser import parse\n",
    "from typing import List\n",
    "import re\n",
    "\n",
    "\n",
    "def clean_name_and_type(key: str, value: str):\n",
    "    \"\"\"Takes key, value and returns new key, value\n",
    "    \n",
    "    For example:\n",
    "    standardize_item(\"Amount\", \"27.97\") returns (\"amount\", Decimal(\"27.97\"))\n",
    "    \"\"\"\n",
    "    column_meta = chase_columns_meta[key]\n",
    "    new_key = column_meta[\"name\"]\n",
    "    column_type = column_meta[\"type\"]\n",
    "    if column_type == \"datetime\":\n",
    "        new_value = parse(value)\n",
    "    elif column_type == \"float\":\n",
    "        new_value = float(value)\n",
    "    elif column_type == \"str\":\n",
    "        new_value = str(value)\n",
    "        new_value = re.sub('\\s+',' ', new_value.lower().strip())\n",
    "    else:\n",
    "        raise Exception(\"unknown column type\")\n",
    "    return new_key, new_value\n",
    "        \n",
    "def clean_description_from_address(tx):\n",
    "    \"\"\"See lots of transactions where Address is also appended to the description. Let's remove that.\"\"\"\n",
    "    address = tx.get(\"address\") or '&&&&'\n",
    "    description = tx['description']\n",
    "    if not address:\n",
    "        return description\n",
    "    address_without_spaces = address.replace(' ', '')\n",
    "    description_without_spaces = description.replace(' ', '')\n",
    "    if description_without_spaces.endswith(address_without_spaces):\n",
    "        #print(\"NEED CLEANUP\")  ## TODO: remove that\n",
    "        # need to remove address from payee\n",
    "        # possibilities are:\n",
    "        # sunnyvale CA -> SunnyvaleCA\n",
    "        # mountain view ca -> mountain viewca\n",
    "        # sunnyvale ca -> sunnyvale ca\n",
    "        if description.endswith(address):\n",
    "            #print(\"remove full address\")\n",
    "            return description.replace(address, '').strip()\n",
    "        k = address.rfind(\" \")\n",
    "        address_without_last_space = address[:k]  + address[k+1:]\n",
    "        #print(address_without_last_space)\n",
    "        if description.endswith(address_without_last_space):\n",
    "            #print(\"remove partial address\")\n",
    "            return description.replace(address_without_last_space, '').strip()\n",
    "    return description\n",
    "\n",
    "\n",
    "def clean_transaction(transaction: dict):\n",
    "    \"\"\"Change field names to something that will be used with all the banks.\n",
    "    \n",
    "    also cleans up 'description' field from address.\n",
    "    \"\"\"\n",
    "    formatted_tx = {}\n",
    "    for k, v in transaction.items():\n",
    "        new_key, new_value = clean_name_and_type(k, v)\n",
    "        formatted_tx[new_key] = new_value\n",
    "    clean_description = clean_description_from_address(formatted_tx)\n",
    "    # square also prefixes their transactions with 'sq *', let's remove it.\n",
    "    if clean_description.startswith(\"sq *\"):\n",
    "        formatted_tx['point_of_sale'] = 'square'\n",
    "        clean_description = clean_description.replace(\"sq *\", \"\")\n",
    "    if formatted_tx['amount'] > 0:\n",
    "        formatted_tx['type'] = 'credit'\n",
    "    else:\n",
    "        formatted_tx['type'] = 'debit'\n",
    "\n",
    "    formatted_tx['description'] = clean_description\n",
    "    return formatted_tx\n",
    "\n",
    "\n",
    "\n",
    "def clean_transactions(transactions: List[dict]):\n",
    "    \"\"\"Cleans all transactions\"\"\"\n",
    "    clean_txs = []\n",
    "    for tx in transactions:\n",
    "        clean_tx = clean_transaction(tx)\n",
    "        clean_txs.append(clean_tx)\n",
    "    return clean_txs\n",
    "\n",
    "clean_txs = clean_transactions(transactions_list)"
   ]
  },
  {
   "cell_type": "markdown",
   "metadata": {},
   "source": [
    "example cleaned data"
   ]
  },
  {
   "cell_type": "code",
   "execution_count": 5,
   "metadata": {},
   "outputs": [
    {
     "data": {
      "text/plain": [
       "{'tx_date': datetime.datetime(2020, 2, 13, 0, 0),\n",
       " 'date': datetime.datetime(2020, 2, 16, 0, 0),\n",
       " 'description': 'anthropologie.com',\n",
       " 'bank_category': 'shopping',\n",
       " 'bank_tx_type': 'sale',\n",
       " 'amount': -239.8,\n",
       " 'type': 'debit'}"
      ]
     },
     "execution_count": 5,
     "metadata": {},
     "output_type": "execute_result"
    }
   ],
   "source": [
    "clean_txs[3]"
   ]
  },
  {
   "cell_type": "markdown",
   "metadata": {},
   "source": [
    "So far it's only based on BofA, when I get to Chase, i'll fine similarities."
   ]
  },
  {
   "cell_type": "markdown",
   "metadata": {},
   "source": [
    "### 2. try to infer merchant and category\n",
    "\n",
    "for that for now we do mostly regex matching.\n",
    "as this list grows it will be moved to the database.\n",
    "\n",
    "for now config for how to map description to merchant and tags is in \n",
    "\n",
    "`description_matchers.json` file"
   ]
  },
  {
   "cell_type": "code",
   "execution_count": 6,
   "metadata": {},
   "outputs": [],
   "source": [
    "import re\n",
    "\n",
    "with open('description_matchers.json') as matchers_config:\n",
    "    matchers = json.loads(matchers_config.read())\n",
    "\n",
    "def try_match(description, matcher):\n",
    "    match = matcher[\"match\"]\n",
    "    if match[\"type\"] == \"exact\":\n",
    "        #print(description, match[\"exact\"])\n",
    "        if description == match[\"exact\"]:\n",
    "            return matcher[\"assign\"]\n",
    "    elif match[\"type\"] == \"keyword\":\n",
    "        #print(description, match[\"exact\"])\n",
    "        parts = re.split(' |\\.|,|\\n', description)\n",
    "        if match[\"keyword\"] in parts:\n",
    "            return matcher[\"assign\"]\n",
    "    elif match[\"type\"] == \"regex\":\n",
    "        #print(match[\"regex\"], description)\n",
    "        re_match = re.match(match[\"regex\"], description)\n",
    "        if re_match:\n",
    "            assign_values = matcher[\"assign\"]\n",
    "            if re_match.groupdict():\n",
    "                assign_values.update(re_match.groupdict())\n",
    "            return assign_values\n",
    "    return None\n",
    "\n",
    "def parse_description(description):\n",
    "    for matcher in matchers:\n",
    "        #print(matcher)\n",
    "        assign_values = try_match(description, matcher)\n",
    "        if assign_values:\n",
    "            return assign_values\n",
    "\n",
    "def enhance_transaction(tx):\n",
    "    values_to_add = parse_description(tx[\"description\"])\n",
    "    tx_copy = tx.copy()\n",
    "    if values_to_add:\n",
    "        if \"merchant\" not in values_to_add:\n",
    "            # TBD if this is what we want\n",
    "            values_to_add[\"merchant\"] = tx[\"description\"]\n",
    "        tx_copy.update(values_to_add)\n",
    "    \n",
    "   \n",
    "    return tx_copy\n",
    "\n",
    "def enhance_transactions(txs):\n",
    "    result = []\n",
    "    for tx in clean_txs:\n",
    "        #print(tx)\n",
    "        tx_copy = enhance_transaction(tx)\n",
    "        result.append(tx_copy)\n",
    "    return result\n",
    "\n",
    "\n",
    "enhanced_txs = enhance_transactions(clean_txs)"
   ]
  },
  {
   "cell_type": "markdown",
   "metadata": {},
   "source": [
    "example labeled data"
   ]
  },
  {
   "cell_type": "code",
   "execution_count": 7,
   "metadata": {},
   "outputs": [
    {
     "data": {
      "text/plain": [
       "{'tx_date': datetime.datetime(2020, 2, 13, 0, 0),\n",
       " 'date': datetime.datetime(2020, 2, 16, 0, 0),\n",
       " 'description': 'anthropologie.com',\n",
       " 'bank_category': 'shopping',\n",
       " 'bank_tx_type': 'sale',\n",
       " 'amount': -239.8,\n",
       " 'type': 'debit',\n",
       " 'merchant': 'anthropologie',\n",
       " 'category': 'shopping',\n",
       " 'tags': ['shopping', 'online']}"
      ]
     },
     "execution_count": 7,
     "metadata": {},
     "output_type": "execute_result"
    }
   ],
   "source": [
    "enhanced_txs[3]"
   ]
  },
  {
   "cell_type": "markdown",
   "metadata": {},
   "source": [
    "### 3. now all is categorized, let's try to slice and dice"
   ]
  },
  {
   "cell_type": "code",
   "execution_count": 8,
   "metadata": {},
   "outputs": [],
   "source": [
    "import pandas as pd\n",
    "\n",
    "tx_df = pd.DataFrame(enhanced_txs) "
   ]
  },
  {
   "cell_type": "markdown",
   "metadata": {},
   "source": [
    "#### Daily spendings for a month"
   ]
  },
  {
   "cell_type": "code",
   "execution_count": 9,
   "metadata": {},
   "outputs": [
    {
     "data": {
      "text/plain": [
       "<BarContainer object of 29 artists>"
      ]
     },
     "execution_count": 9,
     "metadata": {},
     "output_type": "execute_result"
    },
    {
     "data": {
      "image/png": "[encoded data removed]",
      "text/plain": [
       "<Figure size 1080x504 with 1 Axes>"
      ]
     },
     "metadata": {
      "needs_background": "light"
     },
     "output_type": "display_data"
    }
   ],
   "source": [
    "import matplotlib.pyplot as plt\n",
    "import matplotlib.dates as mdates\n",
    "\n",
    "df = tx_df.set_index('date')\n",
    "fig, ax = plt.subplots(figsize=(15,7))\n",
    "\n",
    "daily_spendings_df = df[df['type']=='debit'].resample('D').sum().transform(abs)\n",
    "ax.xaxis_date()\n",
    "ax.xaxis.set_major_formatter(mdates.DateFormatter('%b %d'))\n",
    "daily_spendings_df\n",
    "ax.bar(daily_spendings_df.index, daily_spendings_df['amount'])"
   ]
  },
  {
   "cell_type": "markdown",
   "metadata": {},
   "source": [
    "#### Spendings by category\n"
   ]
  },
  {
   "cell_type": "markdown",
   "metadata": {},
   "source": [
    "**Pie chart view**"
   ]
  },
  {
   "cell_type": "code",
   "execution_count": 10,
   "metadata": {},
   "outputs": [
    {
     "data": {
      "text/plain": [
       "<matplotlib.axes._subplots.AxesSubplot at 0x1264a15d0>"
      ]
     },
     "execution_count": 10,
     "metadata": {},
     "output_type": "execute_result"
    },
    {
     "data": {
      "image/png": "[encoded data removed]",
      "text/plain": [
       "<Figure size 432x288 with 1 Axes>"
      ]
     },
     "metadata": {},
     "output_type": "display_data"
    }
   ],
   "source": [
    "df[df['type']=='debit'].groupby(['category'])['amount'].agg('sum').map(abs).plot(kind='pie')"
   ]
  },
  {
   "cell_type": "code",
   "execution_count": 11,
   "metadata": {},
   "outputs": [
    {
     "data": {
      "text/plain": [
       "<matplotlib.axes._subplots.AxesSubplot at 0x126547ad0>"
      ]
     },
     "execution_count": 11,
     "metadata": {},
     "output_type": "execute_result"
    },
    {
     "data": {
      "image/png": "[encoded data removed]",
      "text/plain": [
       "<Figure size 432x288 with 1 Axes>"
      ]
     },
     "metadata": {},
     "output_type": "display_data"
    }
   ],
   "source": [
    "df[df['type']=='debit'].groupby(['merchant'])['amount'].agg('sum').map(abs).plot(kind='pie')"
   ]
  },
  {
   "cell_type": "markdown",
   "metadata": {},
   "source": [
    "**Table View**"
   ]
  },
  {
   "cell_type": "code",
   "execution_count": 12,
   "metadata": {},
   "outputs": [
    {
     "data": {
      "text/html": [
       "<div>\n",
       "<style scoped>\n",
       "    .dataframe tbody tr th:only-of-type {\n",
       "        vertical-align: middle;\n",
       "    }\n",
       "\n",
       "    .dataframe tbody tr th {\n",
       "        vertical-align: top;\n",
       "    }\n",
       "\n",
       "    .dataframe thead th {\n",
       "        text-align: right;\n",
       "    }\n",
       "</style>\n",
       "<table border=\"1\" class=\"dataframe\">\n",
       "  <thead>\n",
       "    <tr style=\"text-align: right;\">\n",
       "      <th></th>\n",
       "      <th>amount</th>\n",
       "    </tr>\n",
       "    <tr>\n",
       "      <th>category</th>\n",
       "      <th></th>\n",
       "    </tr>\n",
       "  </thead>\n",
       "  <tbody>\n",
       "    <tr>\n",
       "      <th>shopping</th>\n",
       "      <td>2686.19</td>\n",
       "    </tr>\n",
       "    <tr>\n",
       "      <th>food</th>\n",
       "      <td>142.36</td>\n",
       "    </tr>\n",
       "    <tr>\n",
       "      <th>travel</th>\n",
       "      <td>135.48</td>\n",
       "    </tr>\n",
       "    <tr>\n",
       "      <th>gas</th>\n",
       "      <td>88.30</td>\n",
       "    </tr>\n",
       "    <tr>\n",
       "      <th>cafe</th>\n",
       "      <td>49.68</td>\n",
       "    </tr>\n",
       "    <tr>\n",
       "      <th>groceries</th>\n",
       "      <td>44.16</td>\n",
       "    </tr>\n",
       "    <tr>\n",
       "      <th>pharmacy</th>\n",
       "      <td>20.11</td>\n",
       "    </tr>\n",
       "    <tr>\n",
       "      <th>movies and books</th>\n",
       "      <td>14.98</td>\n",
       "    </tr>\n",
       "  </tbody>\n",
       "</table>\n",
       "</div>"
      ],
      "text/plain": [
       "                   amount\n",
       "category                 \n",
       "shopping          2686.19\n",
       "food               142.36\n",
       "travel             135.48\n",
       "gas                 88.30\n",
       "cafe                49.68\n",
       "groceries           44.16\n",
       "pharmacy            20.11\n",
       "movies and books    14.98"
      ]
     },
     "execution_count": 12,
     "metadata": {},
     "output_type": "execute_result"
    }
   ],
   "source": [
    "df[df['type']=='debit'].groupby(['category'])['amount'].agg('sum').map(abs).sort_values(ascending=False).to_frame()"
   ]
  },
  {
   "cell_type": "code",
   "execution_count": 13,
   "metadata": {},
   "outputs": [
    {
     "data": {
      "text/html": [
       "<div>\n",
       "<style scoped>\n",
       "    .dataframe tbody tr th:only-of-type {\n",
       "        vertical-align: middle;\n",
       "    }\n",
       "\n",
       "    .dataframe tbody tr th {\n",
       "        vertical-align: top;\n",
       "    }\n",
       "\n",
       "    .dataframe thead th {\n",
       "        text-align: right;\n",
       "    }\n",
       "</style>\n",
       "<table border=\"1\" class=\"dataframe\">\n",
       "  <thead>\n",
       "    <tr style=\"text-align: right;\">\n",
       "      <th></th>\n",
       "      <th>amount</th>\n",
       "    </tr>\n",
       "    <tr>\n",
       "      <th>merchant</th>\n",
       "      <th></th>\n",
       "    </tr>\n",
       "  </thead>\n",
       "  <tbody>\n",
       "    <tr>\n",
       "      <th>amazon</th>\n",
       "      <td>1207.55</td>\n",
       "    </tr>\n",
       "    <tr>\n",
       "      <th>anthropologie</th>\n",
       "      <td>631.11</td>\n",
       "    </tr>\n",
       "    <tr>\n",
       "      <th>jenni kane</th>\n",
       "      <td>449.35</td>\n",
       "    </tr>\n",
       "    <tr>\n",
       "      <th>uber</th>\n",
       "      <td>277.84</td>\n",
       "    </tr>\n",
       "    <tr>\n",
       "      <th>juut</th>\n",
       "      <td>237.34</td>\n",
       "    </tr>\n",
       "    <tr>\n",
       "      <th>target</th>\n",
       "      <td>141.85</td>\n",
       "    </tr>\n",
       "    <tr>\n",
       "      <th>shell</th>\n",
       "      <td>88.30</td>\n",
       "    </tr>\n",
       "    <tr>\n",
       "      <th>apple</th>\n",
       "      <td>33.97</td>\n",
       "    </tr>\n",
       "    <tr>\n",
       "      <th>nespresso</th>\n",
       "      <td>31.48</td>\n",
       "    </tr>\n",
       "    <tr>\n",
       "      <th>Specialty's Café &amp; Bakery</th>\n",
       "      <td>23.75</td>\n",
       "    </tr>\n",
       "    <tr>\n",
       "      <th>coupa cafe</th>\n",
       "      <td>22.48</td>\n",
       "    </tr>\n",
       "    <tr>\n",
       "      <th>camino pharmacy</th>\n",
       "      <td>20.11</td>\n",
       "    </tr>\n",
       "    <tr>\n",
       "      <th>safeway</th>\n",
       "      <td>9.69</td>\n",
       "    </tr>\n",
       "    <tr>\n",
       "      <th>philz coffee</th>\n",
       "      <td>3.45</td>\n",
       "    </tr>\n",
       "    <tr>\n",
       "      <th>sunnyvale grocery o</th>\n",
       "      <td>2.99</td>\n",
       "    </tr>\n",
       "  </tbody>\n",
       "</table>\n",
       "</div>"
      ],
      "text/plain": [
       "                            amount\n",
       "merchant                          \n",
       "amazon                     1207.55\n",
       "anthropologie               631.11\n",
       "jenni kane                  449.35\n",
       "uber                        277.84\n",
       "juut                        237.34\n",
       "target                      141.85\n",
       "shell                        88.30\n",
       "apple                        33.97\n",
       "nespresso                    31.48\n",
       "Specialty's Café & Bakery    23.75\n",
       "coupa cafe                   22.48\n",
       "camino pharmacy              20.11\n",
       "safeway                       9.69\n",
       "philz coffee                  3.45\n",
       "sunnyvale grocery o           2.99"
      ]
     },
     "execution_count": 13,
     "metadata": {},
     "output_type": "execute_result"
    }
   ],
   "source": [
    "df[df['type']=='debit'].groupby(['merchant'])['amount'].agg('sum').map(abs).sort_values(ascending=False).to_frame()"
   ]
  },
  {
   "cell_type": "code",
   "execution_count": null,
   "metadata": {},
   "outputs": [],
   "source": []
  }
 ],
 "metadata": {
  "kernelspec": {
   "display_name": "Python 3",
   "language": "python",
   "name": "python3"
  },
  "language_info": {
   "codemirror_mode": {
    "name": "ipython",
    "version": 3
   },
   "file_extension": ".py",
   "mimetype": "text/x-python",
   "name": "python",
   "nbconvert_exporter": "python",
   "pygments_lexer": "ipython3",
   "version": "3.7.5"
  }
 },
 "nbformat": 4,
 "nbformat_minor": 4
}
